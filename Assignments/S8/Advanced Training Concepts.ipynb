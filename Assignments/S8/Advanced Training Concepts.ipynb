{
  "nbformat": 4,
  "nbformat_minor": 0,
  "metadata": {
    "colab": {
      "name": "Untitled0.ipynb",
      "provenance": [],
      "authorship_tag": "ABX9TyP4ZWZJPpn/7xQ1oK1n8L04",
      "include_colab_link": true
    },
    "kernelspec": {
      "name": "python3",
      "display_name": "Python 3"
    },
    "language_info": {
      "name": "python"
    },
    "accelerator": "GPU"
  },
  "cells": [
    {
      "cell_type": "markdown",
      "metadata": {
        "id": "view-in-github",
        "colab_type": "text"
      },
      "source": [
        "<a href=\"https://colab.research.google.com/github/amanjain487/tsai-eva6/blob/main/Assignments/S8/Advanced%20Training%20Concepts.ipynb\" target=\"_parent\"><img src=\"https://colab.research.google.com/assets/colab-badge.svg\" alt=\"Open In Colab\"/></a>"
      ]
    },
    {
      "cell_type": "code",
      "metadata": {
        "colab": {
          "base_uri": "https://localhost:8080/"
        },
        "id": "UTq4_-PBBMN4",
        "outputId": "e78a501a-442e-456d-9d0e-15828ac89ac4"
      },
      "source": [
        "%rm -rf 'Tsai_EVA6_Main'\n",
        "!git clone https://github.com/amanjain487/Tsai_EVA6_Main.git"
      ],
      "execution_count": 1,
      "outputs": [
        {
          "output_type": "stream",
          "text": [
            "Cloning into 'Tsai_EVA6_Main'...\n",
            "remote: Enumerating objects: 114, done.\u001b[K\n",
            "remote: Counting objects: 100% (114/114), done.\u001b[K\n",
            "remote: Compressing objects: 100% (110/110), done.\u001b[K\n",
            "remote: Total 114 (delta 55), reused 0 (delta 0), pack-reused 0\u001b[K\n",
            "Receiving objects: 100% (114/114), 28.17 KiB | 7.04 MiB/s, done.\n",
            "Resolving deltas: 100% (55/55), done.\n"
          ],
          "name": "stdout"
        }
      ]
    },
    {
      "cell_type": "code",
      "metadata": {
        "id": "3G9EcG3FBWNp",
        "colab": {
          "base_uri": "https://localhost:8080/"
        },
        "outputId": "3df8d9b5-d1ac-45d7-a23a-565269311d91"
      },
      "source": [
        "import sys\n",
        "sys.path.append('/Tsai_EVA6_Main/')\n",
        "\n",
        "!pip install git+https://github.com/albumentations-team/albumentations.git\n"
      ],
      "execution_count": 2,
      "outputs": [
        {
          "output_type": "stream",
          "text": [
            "Collecting git+https://github.com/albumentations-team/albumentations.git\n",
            "  Cloning https://github.com/albumentations-team/albumentations.git to /tmp/pip-req-build-457y3ao3\n",
            "  Running command git clone -q https://github.com/albumentations-team/albumentations.git /tmp/pip-req-build-457y3ao3\n",
            "Requirement already satisfied (use --upgrade to upgrade): albumentations==1.0.0 from git+https://github.com/albumentations-team/albumentations.git in /usr/local/lib/python3.7/dist-packages\n",
            "Requirement already satisfied: numpy>=1.11.1 in /usr/local/lib/python3.7/dist-packages (from albumentations==1.0.0) (1.19.5)\n",
            "Requirement already satisfied: scipy in /usr/local/lib/python3.7/dist-packages (from albumentations==1.0.0) (1.4.1)\n",
            "Requirement already satisfied: scikit-image>=0.16.1 in /usr/local/lib/python3.7/dist-packages (from albumentations==1.0.0) (0.16.2)\n",
            "Requirement already satisfied: PyYAML in /usr/local/lib/python3.7/dist-packages (from albumentations==1.0.0) (3.13)\n",
            "Requirement already satisfied: opencv-python>=4.1.1 in /usr/local/lib/python3.7/dist-packages (from albumentations==1.0.0) (4.1.2.30)\n",
            "Requirement already satisfied: imageio>=2.3.0 in /usr/local/lib/python3.7/dist-packages (from scikit-image>=0.16.1->albumentations==1.0.0) (2.4.1)\n",
            "Requirement already satisfied: networkx>=2.0 in /usr/local/lib/python3.7/dist-packages (from scikit-image>=0.16.1->albumentations==1.0.0) (2.5.1)\n",
            "Requirement already satisfied: PyWavelets>=0.4.0 in /usr/local/lib/python3.7/dist-packages (from scikit-image>=0.16.1->albumentations==1.0.0) (1.1.1)\n",
            "Requirement already satisfied: pillow>=4.3.0 in /usr/local/lib/python3.7/dist-packages (from scikit-image>=0.16.1->albumentations==1.0.0) (7.1.2)\n",
            "Requirement already satisfied: matplotlib!=3.0.0,>=2.0.0 in /usr/local/lib/python3.7/dist-packages (from scikit-image>=0.16.1->albumentations==1.0.0) (3.2.2)\n",
            "Requirement already satisfied: decorator<5,>=4.3 in /usr/local/lib/python3.7/dist-packages (from networkx>=2.0->scikit-image>=0.16.1->albumentations==1.0.0) (4.4.2)\n",
            "Requirement already satisfied: kiwisolver>=1.0.1 in /usr/local/lib/python3.7/dist-packages (from matplotlib!=3.0.0,>=2.0.0->scikit-image>=0.16.1->albumentations==1.0.0) (1.3.1)\n",
            "Requirement already satisfied: python-dateutil>=2.1 in /usr/local/lib/python3.7/dist-packages (from matplotlib!=3.0.0,>=2.0.0->scikit-image>=0.16.1->albumentations==1.0.0) (2.8.1)\n",
            "Requirement already satisfied: cycler>=0.10 in /usr/local/lib/python3.7/dist-packages (from matplotlib!=3.0.0,>=2.0.0->scikit-image>=0.16.1->albumentations==1.0.0) (0.10.0)\n",
            "Requirement already satisfied: pyparsing!=2.0.4,!=2.1.2,!=2.1.6,>=2.0.1 in /usr/local/lib/python3.7/dist-packages (from matplotlib!=3.0.0,>=2.0.0->scikit-image>=0.16.1->albumentations==1.0.0) (2.4.7)\n",
            "Requirement already satisfied: six>=1.5 in /usr/local/lib/python3.7/dist-packages (from python-dateutil>=2.1->matplotlib!=3.0.0,>=2.0.0->scikit-image>=0.16.1->albumentations==1.0.0) (1.15.0)\n",
            "Building wheels for collected packages: albumentations\n",
            "  Building wheel for albumentations (setup.py) ... \u001b[?25l\u001b[?25hdone\n",
            "  Created wheel for albumentations: filename=albumentations-1.0.0-cp37-none-any.whl size=98151 sha256=1db5525145b02fe4a52d24c53764c0c33506e9e91f984e8bea83488cd23195c8\n",
            "  Stored in directory: /tmp/pip-ephem-wheel-cache-ea7zen5v/wheels/e2/85/3e/2a40fac5cc1f43ced656603bb2fca1327b30ec7de1b1b66517\n",
            "Successfully built albumentations\n"
          ],
          "name": "stdout"
        }
      ]
    },
    {
      "cell_type": "code",
      "metadata": {
        "id": "iz9lfNnMCck4"
      },
      "source": [
        "from Tsai_EVA6_Main.models import resnet"
      ],
      "execution_count": 3,
      "outputs": []
    },
    {
      "cell_type": "code",
      "metadata": {
        "id": "NPxDqKW3DAOG"
      },
      "source": [
        "from Tsai_EVA6_Main import utils\n",
        "from Tsai_EVA6_Main import main"
      ],
      "execution_count": 4,
      "outputs": []
    },
    {
      "cell_type": "code",
      "metadata": {
        "id": "fDZWCgKdC2ac"
      },
      "source": [
        "device, best_acc, classes, net, criterion, optimizer, scheduler = main.define_model_utilities()"
      ],
      "execution_count": 5,
      "outputs": []
    },
    {
      "cell_type": "code",
      "metadata": {
        "id": "UHHYB3pvMAxw"
      },
      "source": [
        "tensor_transforms, numpy_transforms = utils.train_transform([\"totensor\", \"normalize_mean\", \"randomcrop\", \"horizontal_flip\", \"cutout\", \"random_rotate\"])"
      ],
      "execution_count": 6,
      "outputs": []
    },
    {
      "cell_type": "code",
      "metadata": {
        "colab": {
          "base_uri": "https://localhost:8080/"
        },
        "id": "lNt7LKYp-pQc",
        "outputId": "b39ac76a-21d5-4507-8ab2-812b70c492a4"
      },
      "source": [
        "train_set, test_set = utils.load_dataset(tensor_transforms, numpy_transforms)"
      ],
      "execution_count": 7,
      "outputs": [
        {
          "output_type": "stream",
          "text": [
            "Files already downloaded and verified\n",
            "Files already downloaded and verified\n"
          ],
          "name": "stdout"
        }
      ]
    },
    {
      "cell_type": "code",
      "metadata": {
        "id": "RA2yc8oQ_WVt"
      },
      "source": [
        "train_loader, test_loader = main.dataloaders(train_set, test_set)"
      ],
      "execution_count": 8,
      "outputs": []
    },
    {
      "cell_type": "code",
      "metadata": {
        "colab": {
          "base_uri": "https://localhost:8080/"
        },
        "id": "G2uICCI7EOr5",
        "outputId": "3cbcc006-30e3-4b8e-bbf4-0600ee53ae6d"
      },
      "source": [
        "train_loss, train_acc, test_loss, test_acc = main.start_training(40, net, criterion, optimizer, device, train_loader, test_loader, best_acc, scheduler)"
      ],
      "execution_count": 9,
      "outputs": [
        {
          "output_type": "stream",
          "text": [
            "\n",
            "Epoch: 1\n",
            "Train Loss: 3.014 | Train Acc: 14.484% (7242/50000)\n",
            "Loss: 2.180 | Acc: 18.770% (1877/10000)\n",
            "\n",
            "Epoch: 2\n",
            "Train Loss: 2.044 | Train Acc: 23.086% (11543/50000)\n",
            "Loss: 1.930 | Acc: 29.070% (2907/10000)\n",
            "\n",
            "Epoch: 3\n",
            "Train Loss: 1.921 | Train Acc: 28.266% (14133/50000)\n",
            "Loss: 1.838 | Acc: 33.450% (3345/10000)\n",
            "\n",
            "Epoch: 4\n",
            "Train Loss: 1.854 | Train Acc: 31.386% (15693/50000)\n",
            "Loss: 1.798 | Acc: 34.310% (3431/10000)\n",
            "\n",
            "Epoch: 5\n",
            "Train Loss: 1.770 | Train Acc: 34.938% (17469/50000)\n",
            "Loss: 1.682 | Acc: 38.650% (3865/10000)\n",
            "\n",
            "Epoch: 6\n",
            "Train Loss: 1.691 | Train Acc: 37.716% (18858/50000)\n",
            "Loss: 1.571 | Acc: 43.180% (4318/10000)\n",
            "\n",
            "Epoch: 7\n",
            "Train Loss: 1.604 | Train Acc: 41.448% (20724/50000)\n",
            "Loss: 1.491 | Acc: 45.240% (4524/10000)\n",
            "\n",
            "Epoch: 8\n",
            "Train Loss: 1.507 | Train Acc: 45.026% (22513/50000)\n",
            "Loss: 1.415 | Acc: 49.180% (4918/10000)\n",
            "\n",
            "Epoch: 9\n",
            "Train Loss: 1.404 | Train Acc: 48.902% (24451/50000)\n",
            "Loss: 1.433 | Acc: 47.300% (4730/10000)\n",
            "\n",
            "Epoch: 10\n",
            "Train Loss: 1.315 | Train Acc: 52.638% (26319/50000)\n",
            "Loss: 1.230 | Acc: 56.590% (5659/10000)\n",
            "\n",
            "Epoch: 11\n",
            "Train Loss: 1.238 | Train Acc: 55.628% (27814/50000)\n",
            "Loss: 1.175 | Acc: 58.210% (5821/10000)\n",
            "\n",
            "Epoch: 12\n",
            "Train Loss: 1.158 | Train Acc: 58.768% (29384/50000)\n",
            "Loss: 1.091 | Acc: 60.490% (6049/10000)\n",
            "\n",
            "Epoch: 13\n",
            "Train Loss: 1.095 | Train Acc: 61.140% (30570/50000)\n",
            "Loss: 0.977 | Acc: 65.140% (6514/10000)\n",
            "\n",
            "Epoch: 14\n",
            "Train Loss: 1.046 | Train Acc: 62.856% (31428/50000)\n",
            "Loss: 0.969 | Acc: 65.080% (6508/10000)\n",
            "\n",
            "Epoch: 15\n",
            "Train Loss: 0.996 | Train Acc: 64.930% (32465/50000)\n",
            "Loss: 0.897 | Acc: 68.930% (6893/10000)\n",
            "\n",
            "Epoch: 16\n",
            "Train Loss: 0.944 | Train Acc: 66.964% (33482/50000)\n",
            "Loss: 0.974 | Acc: 65.770% (6577/10000)\n",
            "\n",
            "Epoch: 17\n",
            "Train Loss: 0.919 | Train Acc: 67.660% (33830/50000)\n",
            "Loss: 0.886 | Acc: 68.920% (6892/10000)\n",
            "\n",
            "Epoch: 18\n",
            "Train Loss: 0.874 | Train Acc: 69.652% (34826/50000)\n",
            "Loss: 0.808 | Acc: 72.130% (7213/10000)\n",
            "\n",
            "Epoch: 19\n",
            "Train Loss: 0.852 | Train Acc: 70.232% (35116/50000)\n",
            "Loss: 0.743 | Acc: 74.050% (7405/10000)\n",
            "\n",
            "Epoch: 20\n",
            "Train Loss: 0.814 | Train Acc: 71.538% (35769/50000)\n",
            "Loss: 0.954 | Acc: 67.850% (6785/10000)\n",
            "\n",
            "Epoch: 21\n",
            "Train Loss: 0.792 | Train Acc: 72.408% (36204/50000)\n",
            "Loss: 0.781 | Acc: 73.580% (7358/10000)\n",
            "\n",
            "Epoch: 22\n",
            "Train Loss: 0.772 | Train Acc: 73.068% (36534/50000)\n",
            "Loss: 0.806 | Acc: 72.160% (7216/10000)\n",
            "\n",
            "Epoch: 23\n",
            "Train Loss: 0.762 | Train Acc: 73.770% (36885/50000)\n",
            "Loss: 0.838 | Acc: 71.000% (7100/10000)\n",
            "\n",
            "Epoch: 24\n",
            "Train Loss: 0.549 | Train Acc: 80.882% (40441/50000)\n",
            "Loss: 0.534 | Acc: 81.400% (8140/10000)\n",
            "\n",
            "Epoch: 25\n",
            "Train Loss: 0.499 | Train Acc: 82.674% (41337/50000)\n",
            "Loss: 0.508 | Acc: 82.090% (8209/10000)\n",
            "\n",
            "Epoch: 26\n",
            "Train Loss: 0.473 | Train Acc: 83.676% (41838/50000)\n",
            "Loss: 0.489 | Acc: 83.220% (8322/10000)\n",
            "\n",
            "Epoch: 27\n",
            "Train Loss: 0.456 | Train Acc: 84.092% (42046/50000)\n",
            "Loss: 0.473 | Acc: 83.700% (8370/10000)\n",
            "\n",
            "Epoch: 28\n",
            "Train Loss: 0.440 | Train Acc: 84.714% (42357/50000)\n",
            "Loss: 0.469 | Acc: 83.730% (8373/10000)\n",
            "\n",
            "Epoch: 29\n",
            "Train Loss: 0.427 | Train Acc: 85.100% (42550/50000)\n",
            "Loss: 0.447 | Acc: 84.340% (8434/10000)\n",
            "\n",
            "Epoch: 30\n",
            "Train Loss: 0.420 | Train Acc: 85.408% (42704/50000)\n",
            "Loss: 0.437 | Acc: 85.120% (8512/10000)\n",
            "\n",
            "Epoch: 31\n",
            "Train Loss: 0.410 | Train Acc: 85.646% (42823/50000)\n",
            "Loss: 0.460 | Acc: 84.530% (8453/10000)\n",
            "\n",
            "Epoch: 32\n",
            "Train Loss: 0.404 | Train Acc: 85.988% (42994/50000)\n",
            "Loss: 0.445 | Acc: 84.730% (8473/10000)\n",
            "\n",
            "Epoch: 33\n",
            "Train Loss: 0.393 | Train Acc: 86.452% (43226/50000)\n",
            "Loss: 0.446 | Acc: 84.890% (8489/10000)\n",
            "\n",
            "Epoch: 34\n",
            "Train Loss: 0.383 | Train Acc: 86.758% (43379/50000)\n",
            "Loss: 0.417 | Acc: 85.830% (8583/10000)\n",
            "\n",
            "Epoch: 35\n",
            "Train Loss: 0.378 | Train Acc: 86.778% (43389/50000)\n",
            "Loss: 0.413 | Acc: 85.900% (8590/10000)\n",
            "\n",
            "Epoch: 36\n",
            "Train Loss: 0.372 | Train Acc: 87.038% (43519/50000)\n",
            "Loss: 0.431 | Acc: 85.350% (8535/10000)\n",
            "\n",
            "Epoch: 37\n",
            "Train Loss: 0.364 | Train Acc: 87.264% (43632/50000)\n",
            "Loss: 0.436 | Acc: 85.210% (8521/10000)\n",
            "\n",
            "Epoch: 38\n",
            "Train Loss: 0.359 | Train Acc: 87.556% (43778/50000)\n",
            "Loss: 0.425 | Acc: 85.540% (8554/10000)\n",
            "\n",
            "Epoch: 39\n",
            "Train Loss: 0.349 | Train Acc: 87.874% (43937/50000)\n",
            "Loss: 0.405 | Acc: 86.250% (8625/10000)\n",
            "\n",
            "Epoch: 40\n",
            "Train Loss: 0.349 | Train Acc: 87.918% (43959/50000)\n",
            "Loss: 0.419 | Acc: 85.710% (8571/10000)\n",
            "Best Acc is :  86.25\n"
          ],
          "name": "stdout"
        },
        {
          "output_type": "execute_result",
          "data": {
            "text/plain": [
              "([3.014489577554376,\n",
              "  2.0437279790258773,\n",
              "  1.9213323995585332,\n",
              "  1.8541343404204034,\n",
              "  1.7696180578387912,\n",
              "  1.691103294987203,\n",
              "  1.6037339856252646,\n",
              "  1.5066631026280202,\n",
              "  1.4041778059566723,\n",
              "  1.315319446651527,\n",
              "  1.238228449431222,\n",
              "  1.1575824595473307,\n",
              "  1.0954575716991863,\n",
              "  1.045913345673505,\n",
              "  0.9962879832443374,\n",
              "  0.9443503279820122,\n",
              "  0.9186350721532427,\n",
              "  0.874461583469225,\n",
              "  0.8523505287402121,\n",
              "  0.8142555336208295,\n",
              "  0.7920590209229218,\n",
              "  0.7717229987654235,\n",
              "  0.7621930054081675,\n",
              "  0.5487478472997466,\n",
              "  0.49902252323182344,\n",
              "  0.47253679688019523,\n",
              "  0.4559220889645159,\n",
              "  0.43960728231445906,\n",
              "  0.42659653498388617,\n",
              "  0.4198082606200977,\n",
              "  0.40963508928066017,\n",
              "  0.4040038968672228,\n",
              "  0.3928942536682729,\n",
              "  0.3827127095531015,\n",
              "  0.37764038541890166,\n",
              "  0.3720132748946509,\n",
              "  0.3641480516518473,\n",
              "  0.35884194175148254,\n",
              "  0.3488790624586822,\n",
              "  0.34917747520882153],\n",
              " [14.484,\n",
              "  23.086,\n",
              "  28.266,\n",
              "  31.386,\n",
              "  34.938,\n",
              "  37.716,\n",
              "  41.448,\n",
              "  45.026,\n",
              "  48.902,\n",
              "  52.638,\n",
              "  55.628,\n",
              "  58.768,\n",
              "  61.14,\n",
              "  62.856,\n",
              "  64.93,\n",
              "  66.964,\n",
              "  67.66,\n",
              "  69.652,\n",
              "  70.232,\n",
              "  71.538,\n",
              "  72.408,\n",
              "  73.068,\n",
              "  73.77,\n",
              "  80.882,\n",
              "  82.674,\n",
              "  83.676,\n",
              "  84.092,\n",
              "  84.714,\n",
              "  85.1,\n",
              "  85.408,\n",
              "  85.646,\n",
              "  85.988,\n",
              "  86.452,\n",
              "  86.758,\n",
              "  86.778,\n",
              "  87.038,\n",
              "  87.264,\n",
              "  87.556,\n",
              "  87.874,\n",
              "  87.918],\n",
              " [2.1796891689300537,\n",
              "  1.9298638558387757,\n",
              "  1.8376455640792846,\n",
              "  1.7977724862098694,\n",
              "  1.6820159196853637,\n",
              "  1.5712924015522003,\n",
              "  1.4905602371692657,\n",
              "  1.4153586149215698,\n",
              "  1.4329715251922608,\n",
              "  1.2302150964736938,\n",
              "  1.1753052544593812,\n",
              "  1.0905498939752578,\n",
              "  0.9771594488620758,\n",
              "  0.9686084198951721,\n",
              "  0.8966860336065292,\n",
              "  0.9740402644872665,\n",
              "  0.8859355747699738,\n",
              "  0.8076484441757202,\n",
              "  0.7429341769218445,\n",
              "  0.9536420661211014,\n",
              "  0.7810990169644356,\n",
              "  0.8062992304563522,\n",
              "  0.8382698500156402,\n",
              "  0.534235922396183,\n",
              "  0.5084090226888657,\n",
              "  0.4886266687512398,\n",
              "  0.47318949818611145,\n",
              "  0.4692950785160065,\n",
              "  0.44651335299015044,\n",
              "  0.4372891040146351,\n",
              "  0.46037926733493806,\n",
              "  0.4448080962896347,\n",
              "  0.4461651884019375,\n",
              "  0.41722439527511596,\n",
              "  0.4129369854927063,\n",
              "  0.43071419596672056,\n",
              "  0.43615987613797186,\n",
              "  0.4248504614830017,\n",
              "  0.4046080006659031,\n",
              "  0.4194803701341152],\n",
              " [18.77,\n",
              "  29.07,\n",
              "  33.45,\n",
              "  34.31,\n",
              "  38.65,\n",
              "  43.18,\n",
              "  45.24,\n",
              "  49.18,\n",
              "  47.3,\n",
              "  56.59,\n",
              "  58.21,\n",
              "  60.49,\n",
              "  65.14,\n",
              "  65.08,\n",
              "  68.93,\n",
              "  65.77,\n",
              "  68.92,\n",
              "  72.13,\n",
              "  74.05,\n",
              "  67.85,\n",
              "  73.58,\n",
              "  72.16,\n",
              "  71.0,\n",
              "  81.4,\n",
              "  82.09,\n",
              "  83.22,\n",
              "  83.7,\n",
              "  83.73,\n",
              "  84.34,\n",
              "  85.12,\n",
              "  84.53,\n",
              "  84.73,\n",
              "  84.89,\n",
              "  85.83,\n",
              "  85.9,\n",
              "  85.35,\n",
              "  85.21,\n",
              "  85.54,\n",
              "  86.25,\n",
              "  85.71])"
            ]
          },
          "metadata": {
            "tags": []
          },
          "execution_count": 9
        }
      ]
    },
    {
      "cell_type": "code",
      "metadata": {
        "id": "_lMBLaNEEUF8"
      },
      "source": [
        ""
      ],
      "execution_count": 9,
      "outputs": []
    }
  ]
}