{
  "nbformat": 4,
  "nbformat_minor": 0,
  "metadata": {
    "colab": {
      "name": "Untitled2.ipynb",
      "provenance": [],
      "machine_shape": "hm",
      "authorship_tag": "ABX9TyOdT0kjOxH85opAYXbYVO/k",
      "include_colab_link": true
    },
    "kernelspec": {
      "name": "python3",
      "display_name": "Python 3"
    },
    "language_info": {
      "name": "python"
    },
    "accelerator": "GPU"
  },
  "cells": [
    {
      "cell_type": "markdown",
      "metadata": {
        "id": "view-in-github",
        "colab_type": "text"
      },
      "source": [
        "<a href=\"https://colab.research.google.com/github/amanjain487/tsai-eva6/blob/main/Assignments/S10/Resnet%20on%20Tiny%20ImageNet.ipynb\" target=\"_parent\"><img src=\"https://colab.research.google.com/assets/colab-badge.svg\" alt=\"Open In Colab\"/></a>"
      ]
    },
    {
      "cell_type": "code",
      "metadata": {
        "colab": {
          "base_uri": "https://localhost:8080/"
        },
        "id": "aZgX6zBhwHSu",
        "outputId": "092d6330-738b-414a-e1db-87f42b6983b4"
      },
      "source": [
        "from google.colab import drive\n",
        "drive.mount('/content/drive')"
      ],
      "execution_count": 6,
      "outputs": [
        {
          "output_type": "stream",
          "text": [
            "Drive already mounted at /content/drive; to attempt to forcibly remount, call drive.mount(\"/content/drive\", force_remount=True).\n"
          ],
          "name": "stdout"
        }
      ]
    },
    {
      "cell_type": "code",
      "metadata": {
        "colab": {
          "base_uri": "https://localhost:8080/"
        },
        "id": "rPOEPPBov8Gh",
        "outputId": "aa8046e0-4661-4098-fe45-50ebd4504874"
      },
      "source": [
        "# !wget http://cs231n.stanford.edu/tiny-imagenet-200.zip\n",
        "# !unzip /content/tiny-imagenet-200.zip\n",
        "print(\"Done\")"
      ],
      "execution_count": 7,
      "outputs": [
        {
          "output_type": "stream",
          "text": [
            "Done\n"
          ],
          "name": "stdout"
        }
      ]
    },
    {
      "cell_type": "code",
      "metadata": {
        "id": "CYbTjcuwwH4l",
        "colab": {
          "base_uri": "https://localhost:8080/"
        },
        "outputId": "003c6152-1994-4de7-e9cd-a5697856f93f"
      },
      "source": [
        "%rm -rf 'CIFAR_10'\n",
        "!git clone https://github.com/amanjain487/CIFAR_10"
      ],
      "execution_count": 8,
      "outputs": [
        {
          "output_type": "stream",
          "text": [
            "Cloning into 'CIFAR_10'...\n",
            "remote: Enumerating objects: 300, done.\u001b[K\n",
            "remote: Counting objects: 100% (300/300), done.\u001b[K\n",
            "remote: Compressing objects: 100% (288/288), done.\u001b[K\n",
            "remote: Total 300 (delta 150), reused 16 (delta 6), pack-reused 0\u001b[K\n",
            "Receiving objects: 100% (300/300), 69.35 KiB | 7.71 MiB/s, done.\n",
            "Resolving deltas: 100% (150/150), done.\n"
          ],
          "name": "stdout"
        }
      ]
    },
    {
      "cell_type": "code",
      "metadata": {
        "colab": {
          "base_uri": "https://localhost:8080/"
        },
        "id": "5xuvxOf4Y1ut",
        "outputId": "dc6c971d-b060-4b7e-bcca-48f8465b7ed7"
      },
      "source": [
        "import sys\n",
        "sys.path.append('/CIFAR_10/')\n",
        "\n",
        "!pip install git+https://github.com/albumentations-team/albumentations.git\n"
      ],
      "execution_count": 9,
      "outputs": [
        {
          "output_type": "stream",
          "text": [
            "Collecting git+https://github.com/albumentations-team/albumentations.git\n",
            "  Cloning https://github.com/albumentations-team/albumentations.git to /tmp/pip-req-build-5r1ydncl\n",
            "  Running command git clone -q https://github.com/albumentations-team/albumentations.git /tmp/pip-req-build-5r1ydncl\n",
            "Requirement already satisfied: numpy>=1.11.1 in /usr/local/lib/python3.7/dist-packages (from albumentations==1.0.3) (1.19.5)\n",
            "Requirement already satisfied: scipy in /usr/local/lib/python3.7/dist-packages (from albumentations==1.0.3) (1.4.1)\n",
            "Requirement already satisfied: scikit-image>=0.16.1 in /usr/local/lib/python3.7/dist-packages (from albumentations==1.0.3) (0.16.2)\n",
            "Requirement already satisfied: PyYAML in /usr/local/lib/python3.7/dist-packages (from albumentations==1.0.3) (3.13)\n",
            "Requirement already satisfied: opencv-python>=4.1.1 in /usr/local/lib/python3.7/dist-packages (from albumentations==1.0.3) (4.1.2.30)\n",
            "Requirement already satisfied: imageio>=2.3.0 in /usr/local/lib/python3.7/dist-packages (from scikit-image>=0.16.1->albumentations==1.0.3) (2.4.1)\n",
            "Requirement already satisfied: PyWavelets>=0.4.0 in /usr/local/lib/python3.7/dist-packages (from scikit-image>=0.16.1->albumentations==1.0.3) (1.1.1)\n",
            "Requirement already satisfied: pillow>=4.3.0 in /usr/local/lib/python3.7/dist-packages (from scikit-image>=0.16.1->albumentations==1.0.3) (7.1.2)\n",
            "Requirement already satisfied: networkx>=2.0 in /usr/local/lib/python3.7/dist-packages (from scikit-image>=0.16.1->albumentations==1.0.3) (2.5.1)\n",
            "Requirement already satisfied: matplotlib!=3.0.0,>=2.0.0 in /usr/local/lib/python3.7/dist-packages (from scikit-image>=0.16.1->albumentations==1.0.3) (3.2.2)\n",
            "Requirement already satisfied: kiwisolver>=1.0.1 in /usr/local/lib/python3.7/dist-packages (from matplotlib!=3.0.0,>=2.0.0->scikit-image>=0.16.1->albumentations==1.0.3) (1.3.1)\n",
            "Requirement already satisfied: python-dateutil>=2.1 in /usr/local/lib/python3.7/dist-packages (from matplotlib!=3.0.0,>=2.0.0->scikit-image>=0.16.1->albumentations==1.0.3) (2.8.1)\n",
            "Requirement already satisfied: cycler>=0.10 in /usr/local/lib/python3.7/dist-packages (from matplotlib!=3.0.0,>=2.0.0->scikit-image>=0.16.1->albumentations==1.0.3) (0.10.0)\n",
            "Requirement already satisfied: pyparsing!=2.0.4,!=2.1.2,!=2.1.6,>=2.0.1 in /usr/local/lib/python3.7/dist-packages (from matplotlib!=3.0.0,>=2.0.0->scikit-image>=0.16.1->albumentations==1.0.3) (2.4.7)\n",
            "Requirement already satisfied: six in /usr/local/lib/python3.7/dist-packages (from cycler>=0.10->matplotlib!=3.0.0,>=2.0.0->scikit-image>=0.16.1->albumentations==1.0.3) (1.15.0)\n",
            "Requirement already satisfied: decorator<5,>=4.3 in /usr/local/lib/python3.7/dist-packages (from networkx>=2.0->scikit-image>=0.16.1->albumentations==1.0.3) (4.4.2)\n"
          ],
          "name": "stdout"
        }
      ]
    },
    {
      "cell_type": "code",
      "metadata": {
        "colab": {
          "base_uri": "https://localhost:8080/"
        },
        "id": "-RFtSh9FW1IT",
        "outputId": "93b9b991-6406-4544-a369-d844b13b6177"
      },
      "source": [
        "\n",
        "from CIFAR_10 import tiny_imagenet_resnet18\n",
        "from CIFAR_10 import utils\n",
        "from CIFAR_10 import main\n",
        "from CIFAR_10.GradCAM.visualize import VisualizeCam\n",
        "\n",
        "!pip install torchsummary\n",
        "from torchsummary import summary\n",
        "\n",
        "import torch"
      ],
      "execution_count": 10,
      "outputs": [
        {
          "output_type": "stream",
          "text": [
            "Requirement already satisfied: torchsummary in /usr/local/lib/python3.7/dist-packages (1.5.1)\n"
          ],
          "name": "stdout"
        }
      ]
    },
    {
      "cell_type": "code",
      "metadata": {
        "id": "vTizA2Oiwz9_"
      },
      "source": [
        "device, best_acc, classes, net, criterion, optimizer, scheduler = main.define_model_utilities(model=tiny_imagenet_resnet18.ResNet18(), weight_decay=0, momentum=0.9, scheduler=None, loss=\"cross_entropy\", optimizer_func=\"SGD\", lr=0.01)"
      ],
      "execution_count": 11,
      "outputs": []
    },
    {
      "cell_type": "code",
      "metadata": {
        "id": "YOg5J208w3Rj"
      },
      "source": [
        "import time\n",
        "\n",
        "import cv2\n",
        "import numpy as np\n",
        "import torch\n",
        "from sklearn.model_selection import train_test_split\n",
        "from torch.utils.data import Dataset\n",
        "\n",
        "\n",
        "# Giving each folder a ID\n",
        "def get_id_dictionary(path):\n",
        "    \"\"\"This Function will genrate Id's for all classes\n",
        "    Args:\n",
        "        path (sting): file path to the classes txt file\n",
        "    Returns:\n",
        "        dict: key-class, value-Id\n",
        "    \"\"\"\n",
        "    id_dict = {}\n",
        "    for i, line in enumerate(open( path + 'wnids.txt', 'r')):\n",
        "        id_dict[line.replace('\\n', '')] = i\n",
        "    return id_dict\n",
        "\n",
        "\n",
        "def get_data(path):\n",
        "    \"\"\"This function will create a list of file path to the image and their respective labels\n",
        "    and will split them in training and testing samples\n",
        "    Args:\n",
        "        path (sting): file path to the classes txt file \n",
        "    Returns:\n",
        "        list: training and testing images and labels \n",
        "    \"\"\"\n",
        "    id_dict = get_id_dictionary(path)\n",
        "    print('starting loading data')\n",
        "    train_data, test_data = [], []\n",
        "    train_labels, test_labels = [], []\n",
        "    t = time.time()\n",
        "\n",
        "    for key, value in id_dict.items():\n",
        "        #train_data += [cv2.imread( path + 'train/{}/images/{}_{}.JPEG'.format(key, key, str(i)), cv2.COLOR_BGR2RGB) for i in range(500)]\n",
        "        train_data += [path + 'train/{}/images/{}_{}.JPEG'.format(key, key, str(i)) for i in range(500)]\n",
        "        train_labels += [value for i in range(500)]\n",
        "    \n",
        "    X_train, X_test, y_train, y_test = train_test_split(train_data, train_labels, test_size=0.3, random_state=42)\n",
        "    print('finished loading data, in {} seconds'.format(time.time() - t))\n",
        "    print('Samples for training: {}'.format(len(X_train)))\n",
        "    print('Samples for testing: {}'.format(len(X_test)))\n",
        "\n",
        "    return X_train, X_test, y_train, y_test\n",
        "\n",
        "class ImagenetDataset(Dataset):\n",
        "    \"\"\"Pytoch class to generate data loaders for Tiny Image Net Dataset\n",
        "    Args:\n",
        "        Dataset (pytorch class):\n",
        "    \"\"\"\n",
        "    def __init__(self, path, labels, transforms=None):\n",
        "        \"\"\"\n",
        "        Args:\n",
        "            path (list): list containing path of images \n",
        "            labels (list): respective labels for images \n",
        "            transforms (albumentations compose class, optional): Contains Image transformations to be applied. Defaults to None\n",
        "        \"\"\"\n",
        "        self.transform = transforms\n",
        "        self.path, self.labels = path, labels\n",
        "\n",
        "    def __len__(self):\n",
        "        return len(self.path)\n",
        "\n",
        "    def __getitem__(self, idx):\n",
        "        \"\"\"genrate data and label\n",
        "        Args:\n",
        "            idx (int): index of sample\n",
        "        Returns:\n",
        "            tensor: tansformed image and label\n",
        "        \"\"\"\n",
        "        label = self.labels[idx]\n",
        "        image = cv2.imread(self.path[idx])\n",
        "        image = cv2.cvtColor(image, cv2.COLOR_BGR2RGB)\n",
        "\n",
        "        if self.transform:\n",
        "          # Apply transformations\n",
        "          image = self.transform(image=image)['image']\n",
        "          #image = np.transpose(image, (2, 0, 1)).astype(np.float32)\n",
        "        return image, label\n",
        "\n",
        "    def get_class_to_id_dict(self, path, id_dict):\n",
        "        \"\"\"Create a dict of label to class \n",
        "        Args:\n",
        "            path (string): file path to the classes txt file \n",
        "            id_dict (dict):  key-class, value-Id\n",
        "        Returns:\n",
        "            dict: get class of respective label\n",
        "        \"\"\"\n",
        "        all_classes = {}\n",
        "        result = {}\n",
        "        for i, line in enumerate(open( path + 'words.txt', 'r')):\n",
        "            n_id, word = line.split('\\t')[:2]\n",
        "            all_classes[n_id] = word\n",
        "\n",
        "        for key, value in id_dict.items():\n",
        "            result[value] = (key, all_classes[key])      \n",
        "        return result     "
      ],
      "execution_count": 12,
      "outputs": []
    },
    {
      "cell_type": "code",
      "metadata": {
        "id": "_mCuLM3uw6Gd",
        "colab": {
          "base_uri": "https://localhost:8080/"
        },
        "outputId": "d3633331-ab6f-4282-d420-a61a8aead321"
      },
      "source": [
        "path = '/content/tiny-imagenet-200/'\n",
        "X_train, X_test, y_train, y_test = get_data(path)"
      ],
      "execution_count": 13,
      "outputs": [
        {
          "output_type": "stream",
          "text": [
            "starting loading data\n",
            "finished loading data, in 0.12564802169799805 seconds\n",
            "Samples for training: 70000\n",
            "Samples for testing: 30000\n"
          ],
          "name": "stdout"
        }
      ]
    },
    {
      "cell_type": "code",
      "metadata": {
        "id": "moXQtkF9zvB1"
      },
      "source": [
        "import albumentations as A\n",
        "from albumentations.pytorch import ToTensorV2\n",
        "\n",
        "mean,std = (0.4802, 0.4481, 0.3975), (0.2302, 0.2265, 0.2262)\n",
        "\n",
        "train_transform = A.Compose([\n",
        "  \n",
        "  A.PadIfNeeded(min_height=76, min_width=76, always_apply=True),\n",
        "  A.RandomCrop(64,64),\n",
        "  A.Rotate(limit=15),\n",
        "  A.CoarseDropout(1,24, 24, 1, 8, 8,fill_value=[m*255 for m in mean], mask_fill_value=None),\n",
        "  A.VerticalFlip(),\n",
        "  A.HorizontalFlip(),\n",
        "  A.Normalize(mean, std),\n",
        "  ToTensorV2()\n",
        "])\n",
        "\n",
        "test_transform = A.Compose([\n",
        "  A.Normalize(mean, std),\n",
        "  ToTensorV2()\n",
        "])\n",
        "\n",
        "train_loader = torch.utils.data.DataLoader(ImagenetDataset(X_train, y_train, train_transform) , batch_size=512,\n",
        "                                          shuffle=True, num_workers=2)\n",
        "test_loader = torch.utils.data.DataLoader(ImagenetDataset(X_test, y_test, test_transform), batch_size=512,\n",
        "                                           shuffle=True, num_workers=1)"
      ],
      "execution_count": 14,
      "outputs": []
    },
    {
      "cell_type": "code",
      "metadata": {
        "id": "gPL_OPui0N0r",
        "colab": {
          "base_uri": "https://localhost:8080/"
        },
        "outputId": "b98faac5-b7e2-485c-8fe8-189a46edeeeb"
      },
      "source": [
        "summary(net, input_size=(3, 64, 64))"
      ],
      "execution_count": 15,
      "outputs": [
        {
          "output_type": "stream",
          "text": [
            "----------------------------------------------------------------\n",
            "        Layer (type)               Output Shape         Param #\n",
            "================================================================\n",
            "            Conv2d-1           [-1, 64, 64, 64]           1,728\n",
            "         GroupNorm-2           [-1, 64, 64, 64]             128\n",
            "            Conv2d-3           [-1, 64, 64, 64]          36,864\n",
            "         GroupNorm-4           [-1, 64, 64, 64]             128\n",
            "            Conv2d-5           [-1, 64, 64, 64]          36,864\n",
            "         GroupNorm-6           [-1, 64, 64, 64]             128\n",
            "        BasicBlock-7           [-1, 64, 64, 64]               0\n",
            "            Conv2d-8           [-1, 64, 64, 64]          36,864\n",
            "         GroupNorm-9           [-1, 64, 64, 64]             128\n",
            "           Conv2d-10           [-1, 64, 64, 64]          36,864\n",
            "        GroupNorm-11           [-1, 64, 64, 64]             128\n",
            "       BasicBlock-12           [-1, 64, 64, 64]               0\n",
            "           Conv2d-13          [-1, 128, 32, 32]          73,728\n",
            "        GroupNorm-14          [-1, 128, 32, 32]             256\n",
            "           Conv2d-15          [-1, 128, 32, 32]         147,456\n",
            "        GroupNorm-16          [-1, 128, 32, 32]             256\n",
            "           Conv2d-17          [-1, 128, 32, 32]           8,192\n",
            "        GroupNorm-18          [-1, 128, 32, 32]             256\n",
            "       BasicBlock-19          [-1, 128, 32, 32]               0\n",
            "           Conv2d-20          [-1, 128, 32, 32]         147,456\n",
            "        GroupNorm-21          [-1, 128, 32, 32]             256\n",
            "           Conv2d-22          [-1, 128, 32, 32]         147,456\n",
            "        GroupNorm-23          [-1, 128, 32, 32]             256\n",
            "       BasicBlock-24          [-1, 128, 32, 32]               0\n",
            "           Conv2d-25          [-1, 256, 16, 16]         294,912\n",
            "        GroupNorm-26          [-1, 256, 16, 16]             512\n",
            "           Conv2d-27          [-1, 256, 16, 16]         589,824\n",
            "        GroupNorm-28          [-1, 256, 16, 16]             512\n",
            "           Conv2d-29          [-1, 256, 16, 16]          32,768\n",
            "        GroupNorm-30          [-1, 256, 16, 16]             512\n",
            "       BasicBlock-31          [-1, 256, 16, 16]               0\n",
            "           Conv2d-32          [-1, 256, 16, 16]         589,824\n",
            "        GroupNorm-33          [-1, 256, 16, 16]             512\n",
            "           Conv2d-34          [-1, 256, 16, 16]         589,824\n",
            "        GroupNorm-35          [-1, 256, 16, 16]             512\n",
            "       BasicBlock-36          [-1, 256, 16, 16]               0\n",
            "           Conv2d-37            [-1, 512, 8, 8]       1,179,648\n",
            "        GroupNorm-38            [-1, 512, 8, 8]           1,024\n",
            "           Conv2d-39            [-1, 512, 8, 8]       2,359,296\n",
            "        GroupNorm-40            [-1, 512, 8, 8]           1,024\n",
            "           Conv2d-41            [-1, 512, 8, 8]         131,072\n",
            "        GroupNorm-42            [-1, 512, 8, 8]           1,024\n",
            "       BasicBlock-43            [-1, 512, 8, 8]               0\n",
            "           Conv2d-44            [-1, 512, 8, 8]       2,359,296\n",
            "        GroupNorm-45            [-1, 512, 8, 8]           1,024\n",
            "           Conv2d-46            [-1, 512, 8, 8]       2,359,296\n",
            "        GroupNorm-47            [-1, 512, 8, 8]           1,024\n",
            "       BasicBlock-48            [-1, 512, 8, 8]               0\n",
            "           Linear-49                  [-1, 200]         102,600\n",
            "================================================================\n",
            "Total params: 11,271,432\n",
            "Trainable params: 11,271,432\n",
            "Non-trainable params: 0\n",
            "----------------------------------------------------------------\n",
            "Input size (MB): 0.05\n",
            "Forward/backward pass size (MB): 45.00\n",
            "Params size (MB): 43.00\n",
            "Estimated Total Size (MB): 88.05\n",
            "----------------------------------------------------------------\n"
          ],
          "name": "stdout"
        }
      ]
    },
    {
      "cell_type": "code",
      "metadata": {
        "id": "qPrRHLiD1BUK",
        "colab": {
          "base_uri": "https://localhost:8080/"
        },
        "outputId": "c7776e28-f616-4d06-87e6-a2fb499d9a8e"
      },
      "source": [
        "train_loss, train_acc, test_loss, test_acc = main.start_training(50, net, criterion, optimizer, device, train_loader, test_loader, best_acc, scheduler)"
      ],
      "execution_count": 16,
      "outputs": [
        {
          "output_type": "stream",
          "text": [
            "\n",
            "Epoch: 1\n",
            "\n",
            "Epoch: 1\n",
            "Train Loss: 5.058 | Train Acc: 2.006% (1404/70000)\n",
            "Test Loss: 4.975 | Test Acc: 2.583% (775/30000)\n",
            "\n",
            "Epoch: 2\n",
            "\n",
            "Epoch: 2\n",
            "Train Loss: 4.702 | Train Acc: 5.130% (3591/70000)\n",
            "Test Loss: 4.559 | Test Acc: 7.000% (2100/30000)\n",
            "\n",
            "Epoch: 3\n",
            "\n",
            "Epoch: 3\n",
            "Train Loss: 4.348 | Train Acc: 9.026% (6318/70000)\n",
            "Test Loss: 4.195 | Test Acc: 10.993% (3298/30000)\n",
            "\n",
            "Epoch: 4\n",
            "\n",
            "Epoch: 4\n",
            "Train Loss: 4.084 | Train Acc: 12.660% (8862/70000)\n",
            "Test Loss: 3.894 | Test Acc: 15.263% (4579/30000)\n",
            "\n",
            "Epoch: 5\n",
            "\n",
            "Epoch: 5\n",
            "Train Loss: 3.879 | Train Acc: 15.356% (10749/70000)\n",
            "Test Loss: 3.897 | Test Acc: 15.270% (4581/30000)\n",
            "\n",
            "Epoch: 6\n",
            "\n",
            "Epoch: 6\n",
            "Train Loss: 3.698 | Train Acc: 18.344% (12841/70000)\n",
            "Test Loss: 3.861 | Test Acc: 15.700% (4710/30000)\n",
            "\n",
            "Epoch: 7\n",
            "\n",
            "Epoch: 7\n",
            "Train Loss: 3.571 | Train Acc: 20.094% (14066/70000)\n",
            "Test Loss: 3.486 | Test Acc: 21.387% (6416/30000)\n",
            "\n",
            "Epoch: 8\n",
            "\n",
            "Epoch: 8\n",
            "Train Loss: 3.418 | Train Acc: 22.701% (15891/70000)\n",
            "Test Loss: 3.390 | Test Acc: 22.720% (6816/30000)\n",
            "\n",
            "Epoch: 9\n",
            "\n",
            "Epoch: 9\n",
            "Train Loss: 3.300 | Train Acc: 24.647% (17253/70000)\n",
            "Test Loss: 3.337 | Test Acc: 23.893% (7168/30000)\n",
            "\n",
            "Epoch: 10\n",
            "\n",
            "Epoch: 10\n",
            "Train Loss: 3.201 | Train Acc: 26.226% (18358/70000)\n",
            "Test Loss: 3.177 | Test Acc: 26.893% (8068/30000)\n",
            "\n",
            "Epoch: 11\n",
            "\n",
            "Epoch: 11\n",
            "Train Loss: 3.152 | Train Acc: 27.261% (19083/70000)\n",
            "Test Loss: 3.106 | Test Acc: 28.607% (8582/30000)\n",
            "\n",
            "Epoch: 12\n",
            "\n",
            "Epoch: 12\n",
            "Train Loss: 3.046 | Train Acc: 29.064% (20345/70000)\n",
            "Test Loss: 3.075 | Test Acc: 28.793% (8638/30000)\n",
            "\n",
            "Epoch: 13\n",
            "\n",
            "Epoch: 13\n",
            "Train Loss: 2.962 | Train Acc: 30.611% (21428/70000)\n",
            "Test Loss: 2.995 | Test Acc: 30.373% (9112/30000)\n",
            "\n",
            "Epoch: 14\n",
            "\n",
            "Epoch: 14\n",
            "Train Loss: 2.875 | Train Acc: 32.410% (22687/70000)\n",
            "Test Loss: 2.973 | Test Acc: 30.980% (9294/30000)\n",
            "\n",
            "Epoch: 15\n",
            "\n",
            "Epoch: 15\n",
            "Train Loss: 2.829 | Train Acc: 33.161% (23213/70000)\n",
            "Test Loss: 2.918 | Test Acc: 32.253% (9676/30000)\n",
            "\n",
            "Epoch: 16\n",
            "\n",
            "Epoch: 16\n",
            "Train Loss: 2.757 | Train Acc: 34.699% (24289/70000)\n",
            "Test Loss: 2.876 | Test Acc: 33.040% (9912/30000)\n",
            "\n",
            "Epoch: 17\n",
            "\n",
            "Epoch: 17\n",
            "Train Loss: 2.703 | Train Acc: 35.427% (24799/70000)\n",
            "Test Loss: 2.855 | Test Acc: 33.040% (9912/30000)\n",
            "\n",
            "Epoch: 18\n",
            "\n",
            "Epoch: 18\n",
            "Train Loss: 2.616 | Train Acc: 37.260% (26082/70000)\n",
            "Test Loss: 2.701 | Test Acc: 36.253% (10876/30000)\n",
            "\n",
            "Epoch: 19\n",
            "\n",
            "Epoch: 19\n",
            "Train Loss: 2.580 | Train Acc: 37.966% (26576/70000)\n",
            "Test Loss: 2.690 | Test Acc: 36.760% (11028/30000)\n",
            "\n",
            "Epoch: 20\n",
            "\n",
            "Epoch: 20\n",
            "Train Loss: 2.522 | Train Acc: 39.174% (27422/70000)\n",
            "Test Loss: 2.763 | Test Acc: 35.413% (10624/30000)\n",
            "\n",
            "Epoch: 21\n",
            "\n",
            "Epoch: 21\n",
            "Train Loss: 2.484 | Train Acc: 39.823% (27876/70000)\n",
            "Test Loss: 2.701 | Test Acc: 36.537% (10961/30000)\n",
            "\n",
            "Epoch: 22\n",
            "\n",
            "Epoch: 22\n",
            "Train Loss: 2.430 | Train Acc: 40.983% (28688/70000)\n",
            "Test Loss: 2.615 | Test Acc: 38.333% (11500/30000)\n",
            "\n",
            "Epoch: 23\n",
            "\n",
            "Epoch: 23\n",
            "Train Loss: 2.384 | Train Acc: 41.526% (29068/70000)\n",
            "Test Loss: 2.617 | Test Acc: 38.337% (11501/30000)\n",
            "\n",
            "Epoch: 24\n",
            "\n",
            "Epoch: 24\n",
            "Train Loss: 2.347 | Train Acc: 42.737% (29916/70000)\n",
            "Test Loss: 2.554 | Test Acc: 39.730% (11919/30000)\n",
            "\n",
            "Epoch: 25\n",
            "\n",
            "Epoch: 25\n",
            "Train Loss: 2.296 | Train Acc: 43.479% (30435/70000)\n",
            "Test Loss: 2.574 | Test Acc: 39.123% (11737/30000)\n",
            "\n",
            "Epoch: 26\n",
            "\n",
            "Epoch: 26\n",
            "Train Loss: 2.252 | Train Acc: 44.541% (31179/70000)\n",
            "Test Loss: 2.566 | Test Acc: 39.097% (11729/30000)\n",
            "\n",
            "Epoch: 27\n",
            "\n",
            "Epoch: 27\n",
            "Train Loss: 2.205 | Train Acc: 45.374% (31762/70000)\n",
            "Test Loss: 2.522 | Test Acc: 40.067% (12020/30000)\n",
            "\n",
            "Epoch: 28\n",
            "\n",
            "Epoch: 28\n",
            "Train Loss: 2.166 | Train Acc: 46.140% (32298/70000)\n",
            "Test Loss: 2.491 | Test Acc: 41.253% (12376/30000)\n",
            "\n",
            "Epoch: 29\n",
            "\n",
            "Epoch: 29\n",
            "Train Loss: 2.120 | Train Acc: 47.246% (33072/70000)\n",
            "Test Loss: 2.489 | Test Acc: 40.927% (12278/30000)\n",
            "\n",
            "Epoch: 30\n",
            "\n",
            "Epoch: 30\n",
            "Train Loss: 2.069 | Train Acc: 48.214% (33750/70000)\n",
            "Test Loss: 2.425 | Test Acc: 42.130% (12639/30000)\n",
            "\n",
            "Epoch: 31\n",
            "\n",
            "Epoch: 31\n",
            "Train Loss: 2.037 | Train Acc: 49.109% (34376/70000)\n",
            "Test Loss: 2.519 | Test Acc: 40.703% (12211/30000)\n",
            "\n",
            "Epoch: 32\n",
            "\n",
            "Epoch: 32\n",
            "Train Loss: 1.981 | Train Acc: 50.060% (35042/70000)\n",
            "Test Loss: 2.448 | Test Acc: 41.953% (12586/30000)\n",
            "\n",
            "Epoch: 33\n",
            "\n",
            "Epoch: 33\n",
            "Train Loss: 1.955 | Train Acc: 50.509% (35356/70000)\n",
            "Test Loss: 2.385 | Test Acc: 43.400% (13020/30000)\n",
            "\n",
            "Epoch: 34\n",
            "\n",
            "Epoch: 34\n",
            "Train Loss: 1.925 | Train Acc: 51.070% (35749/70000)\n",
            "Test Loss: 2.465 | Test Acc: 41.917% (12575/30000)\n",
            "\n",
            "Epoch: 35\n",
            "\n",
            "Epoch: 35\n",
            "Train Loss: 1.877 | Train Acc: 52.340% (36638/70000)\n",
            "Test Loss: 2.377 | Test Acc: 43.717% (13115/30000)\n",
            "\n",
            "Epoch: 36\n",
            "\n",
            "Epoch: 36\n",
            "Train Loss: 1.842 | Train Acc: 52.909% (37036/70000)\n",
            "Test Loss: 2.460 | Test Acc: 42.327% (12698/30000)\n",
            "\n",
            "Epoch: 37\n",
            "\n",
            "Epoch: 37\n",
            "Train Loss: 1.802 | Train Acc: 53.839% (37687/70000)\n",
            "Test Loss: 2.343 | Test Acc: 44.477% (13343/30000)\n",
            "\n",
            "Epoch: 38\n",
            "\n",
            "Epoch: 38\n",
            "Train Loss: 1.755 | Train Acc: 54.757% (38330/70000)\n",
            "Test Loss: 2.383 | Test Acc: 43.960% (13188/30000)\n",
            "\n",
            "Epoch: 39\n",
            "\n",
            "Epoch: 39\n",
            "Train Loss: 1.741 | Train Acc: 55.156% (38609/70000)\n",
            "Test Loss: 2.512 | Test Acc: 41.800% (12540/30000)\n",
            "\n",
            "Epoch: 40\n",
            "\n",
            "Epoch: 40\n",
            "Train Loss: 1.676 | Train Acc: 56.649% (39654/70000)\n",
            "Test Loss: 2.442 | Test Acc: 43.290% (12987/30000)\n",
            "\n",
            "Epoch: 41\n",
            "\n",
            "Epoch: 41\n",
            "Train Loss: 1.632 | Train Acc: 57.603% (40322/70000)\n",
            "Test Loss: 2.389 | Test Acc: 43.877% (13163/30000)\n",
            "\n",
            "Epoch: 42\n",
            "\n",
            "Epoch: 42\n",
            "Train Loss: 1.641 | Train Acc: 57.090% (39963/70000)\n",
            "Test Loss: 2.351 | Test Acc: 45.043% (13513/30000)\n",
            "\n",
            "Epoch: 43\n",
            "\n",
            "Epoch: 43\n",
            "Train Loss: 1.555 | Train Acc: 59.344% (41541/70000)\n",
            "Test Loss: 2.434 | Test Acc: 43.283% (12985/30000)\n",
            "\n",
            "Epoch: 44\n",
            "\n",
            "Epoch: 44\n",
            "Train Loss: 1.544 | Train Acc: 59.460% (41622/70000)\n",
            "Test Loss: 2.414 | Test Acc: 44.027% (13208/30000)\n",
            "\n",
            "Epoch: 45\n",
            "\n",
            "Epoch: 45\n",
            "Train Loss: 1.501 | Train Acc: 60.406% (42284/70000)\n",
            "Test Loss: 2.385 | Test Acc: 44.583% (13375/30000)\n",
            "\n",
            "Epoch: 46\n",
            "\n",
            "Epoch: 46\n",
            "Train Loss: 1.471 | Train Acc: 61.037% (42726/70000)\n",
            "Test Loss: 2.378 | Test Acc: 44.927% (13478/30000)\n",
            "\n",
            "Epoch: 47\n",
            "\n",
            "Epoch: 47\n",
            "Train Loss: 1.461 | Train Acc: 61.070% (42749/70000)\n",
            "Test Loss: 2.339 | Test Acc: 45.890% (13767/30000)\n",
            "\n",
            "Epoch: 48\n",
            "\n",
            "Epoch: 48\n",
            "Train Loss: 1.396 | Train Acc: 62.956% (44069/70000)\n",
            "Test Loss: 2.371 | Test Acc: 45.457% (13637/30000)\n",
            "\n",
            "Epoch: 49\n",
            "\n",
            "Epoch: 49\n",
            "Train Loss: 1.363 | Train Acc: 63.567% (44497/70000)\n",
            "Test Loss: 2.412 | Test Acc: 44.677% (13403/30000)\n",
            "\n",
            "Epoch: 50\n",
            "\n",
            "Epoch: 50\n",
            "Train Loss: 1.322 | Train Acc: 64.487% (45141/70000)\n",
            "Test Loss: 2.379 | Test Acc: 45.450% (13635/30000)\n",
            "Best Acc is :  45.89\n"
          ],
          "name": "stdout"
        }
      ]
    },
    {
      "cell_type": "code",
      "metadata": {
        "id": "YYSi0wWU3yji",
        "colab": {
          "base_uri": "https://localhost:8080/",
          "height": 607
        },
        "outputId": "ab48b5b0-4c51-4622-b9cb-bdf1058fd324"
      },
      "source": [
        "utils.plot_graph(train_loss, train_acc, test_loss, test_acc)\n"
      ],
      "execution_count": 17,
      "outputs": [
        {
          "output_type": "display_data",
          "data": {
            "image/png": "[encoded data removed]",
            "text/plain": [
              "<Figure size 1080x720 with 4 Axes>"
            ]
          },
          "metadata": {
            "tags": [],
            "needs_background": "light"
          }
        }
      ]
    }
  ]
}